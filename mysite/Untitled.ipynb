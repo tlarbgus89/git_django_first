{
 "cells": [
  {
   "cell_type": "code",
   "execution_count": 1,
   "metadata": {},
   "outputs": [],
   "source": [
    "class Candidate():\n",
    "    def __init__(self, name, introduction, area):\n",
    "        self.name = name\n",
    "        self.introduction = introduction\n",
    "        self.area = area\n",
    "        \n",
    "    def tell():\n",
    "        print('name:{}, into:{}, area:{}'.format(self.name, self.introduction, self.area))\n",
    "        \n",
    "class Student():\n",
    "    def __eq__(self. other):\n",
    "        if "
   ]
  },
  {
   "cell_type": "code",
   "execution_count": 2,
   "metadata": {},
   "outputs": [],
   "source": [
    "candidates = [\n",
    "    Candidate('심규현', '에이스입니다.', '청주'),\n",
    "    Candidate('윤세나', '에이스2입니다.', '흥덕구'),\n",
    "    Candidate('심윤', '에이스3입니다.', '복대동'),\n",
    "]"
   ]
  },
  {
   "cell_type": "code",
   "execution_count": 4,
   "metadata": {},
   "outputs": [
    {
     "name": "stdout",
     "output_type": "stream",
     "text": [
      "에이스입니다.\n",
      "에이스2입니다.\n",
      "에이스3입니다.\n"
     ]
    }
   ],
   "source": [
    "for candidate in candidates:\n",
    "    print(candidate)"
   ]
  },
  {
   "cell_type": "code",
   "execution_count": 10,
   "metadata": {},
   "outputs": [
    {
     "name": "stdout",
     "output_type": "stream",
     "text": [
      "<__main__.Candidate object at 0x110108048>\n"
     ]
    }
   ],
   "source": [
    "print(Candidate('심규현', '에이스입니다.', '청주'))"
   ]
  },
  {
   "cell_type": "code",
   "execution_count": 15,
   "metadata": {},
   "outputs": [
    {
     "data": {
      "text/plain": [
       "[[1, 2, 3], [3, 4, 5], {'age': 15}, <__main__.Candidate at 0x110108f60>]"
      ]
     },
     "execution_count": 15,
     "metadata": {},
     "output_type": "execute_result"
    }
   ],
   "source": [
    "a= []\n",
    "b=[1,2,3]\n",
    "c=[3,4,5]\n",
    "d = {'age':15}\n",
    "a.append(b)\n",
    "a.append(c)\n",
    "a.append(d)\n",
    "a.append(Candidate('심규현', '에이스입니다.', '청주'))\n",
    "\n",
    "a"
   ]
  },
  {
   "cell_type": "code",
   "execution_count": 16,
   "metadata": {},
   "outputs": [
    {
     "name": "stdout",
     "output_type": "stream",
     "text": [
      "Help on class Candidate in module __main__:\n",
      "\n",
      "class Candidate(builtins.object)\n",
      " |  Methods defined here:\n",
      " |  \n",
      " |  __init__(self, name, introduction, area)\n",
      " |      Initialize self.  See help(type(self)) for accurate signature.\n",
      " |  \n",
      " |  tell()\n",
      " |  \n",
      " |  ----------------------------------------------------------------------\n",
      " |  Data descriptors defined here:\n",
      " |  \n",
      " |  __dict__\n",
      " |      dictionary for instance variables (if defined)\n",
      " |  \n",
      " |  __weakref__\n",
      " |      list of weak references to the object (if defined)\n",
      "\n",
      "None\n"
     ]
    }
   ],
   "source": [
    "print(help(Candidate))\n"
   ]
  },
  {
   "cell_type": "code",
   "execution_count": null,
   "metadata": {},
   "outputs": [],
   "source": []
  }
 ],
 "metadata": {
  "kernelspec": {
   "display_name": "python3.6.8",
   "language": "python",
   "name": "py36_tf19"
  },
  "language_info": {
   "codemirror_mode": {
    "name": "ipython",
    "version": 3
   },
   "file_extension": ".py",
   "mimetype": "text/x-python",
   "name": "python",
   "nbconvert_exporter": "python",
   "pygments_lexer": "ipython3",
   "version": "3.6.8"
  }
 },
 "nbformat": 4,
 "nbformat_minor": 2
}
